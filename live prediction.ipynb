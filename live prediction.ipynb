{
 "cells": [
  {
   "cell_type": "code",
   "execution_count": 3,
   "id": "f679e7a1",
   "metadata": {},
   "outputs": [],
   "source": [
    "from keras.models import load_model\n",
    "import cv2\n",
    "import numpy as np\n",
    "from random import choice\n",
    "\n",
    "REV_CLASS_MAP = {\n",
    "    0: \"battery\",\n",
    "    1: \"clothes\",\n",
    "    2: \"Iron and aluminum cans\",\n",
    "    3: \"paper\",\n",
    "    4:\"plastic\",\n",
    "    5: \"glass\"\n",
    "}\n",
    "\n",
    "def mapper(val):\n",
    "    return REV_CLASS_MAP[val]\n",
    "        \n",
    "model = load_model(\"model-resnet50-grabage-final.h5\")\n",
    "#cap = cv2.VideoCapture('tt.mp4')\n",
    "cap = cv2.VideoCapture(0)\n",
    "prev_move = None\n",
    "while True:\n",
    "    ret, frame = cap.read()\n",
    "    if not ret:\n",
    "        continue\n",
    "            \n",
    "    # rectangle for user to play\n",
    "    #cv2.rectangle(frame, (0, 200), (300, 500), (255, 255, 255), 2)\n",
    "    # rectangle for computer to play\n",
    "    cv2.rectangle(frame, (350, 200), (650, 500), (255, 255, 255), 2)\n",
    "        \n",
    "    # extract the region of image within the user rectangle\n",
    "    roi = frame[200:500, 350:650]\n",
    "    img = cv2.cvtColor(roi, cv2.COLOR_BGR2RGB)\n",
    "    img = cv2.resize(img, (224, 224))\n",
    "\n",
    "    # predict the move made\n",
    "    pred = model.predict(np.array([img]))\n",
    "    move_code = np.argmax(pred[0])\n",
    "    user_move_name = mapper(move_code)\n",
    "    \n",
    "    # display the information\n",
    "    font = cv2.FONT_HERSHEY_SIMPLEX\n",
    "    cv2.putText(frame, \"kind: \" + user_move_name, (0, 150), font, 1.2, (255, 255, 0), 2, cv2.LINE_AA)\n",
    "    cv2.imshow(\"Garbage\", frame)\n",
    "\n",
    "    k = cv2.waitKey(1)\n",
    "    if k == ord('q'):\n",
    "        break\n",
    "\n",
    "cap.release()\n",
    "cv2.destroyAllWindows()"
   ]
  },
  {
   "cell_type": "code",
   "execution_count": null,
   "id": "3d9b3287",
   "metadata": {},
   "outputs": [],
   "source": []
  }
 ],
 "metadata": {
  "kernelspec": {
   "display_name": "Python 3",
   "language": "python",
   "name": "python3"
  },
  "language_info": {
   "codemirror_mode": {
    "name": "ipython",
    "version": 3
   },
   "file_extension": ".py",
   "mimetype": "text/x-python",
   "name": "python",
   "nbconvert_exporter": "python",
   "pygments_lexer": "ipython3",
   "version": "3.8.8"
  }
 },
 "nbformat": 4,
 "nbformat_minor": 5
}
